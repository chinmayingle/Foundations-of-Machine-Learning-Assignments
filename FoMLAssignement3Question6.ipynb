{
  "cells": [
    {
      "cell_type": "code",
      "execution_count": null,
      "metadata": {
        "id": "SU1_jn-D807Y"
      },
      "outputs": [],
      "source": [
        "#importing reqired libraries\n",
        "import pandas as pd\n",
        "import numpy as np\n",
        "from sklearn.svm import SVC\n",
        "from sklearn.metrics import accuracy_score, make_scorer\n",
        "from sklearn.preprocessing import StandardScaler\n",
        "import pickle\n",
        "from sklearn.model_selection import GridSearchCV\n",
        "from sklearn.tree import DecisionTreeClassifier\n",
        "from sklearn.metrics import accuracy_score, precision_score, recall_score\n",
        "\n"
      ]
    },
    {
      "cell_type": "code",
      "execution_count": null,
      "metadata": {
        "colab": {
          "base_uri": "https://localhost:8080/"
        },
        "id": "2UnoyEBN-WqN",
        "outputId": "40d618bf-3442-4ce5-e620-878602f10a52"
      },
      "outputs": [
        {
          "output_type": "stream",
          "name": "stdout",
          "text": [
            "Drive already mounted at /content/drive; to attempt to forcibly remount, call drive.mount(\"/content/drive\", force_remount=True).\n"
          ]
        }
      ],
      "source": [
        "from google.colab import drive\n",
        "drive.mount('/content/drive')"
      ]
    },
    {
      "cell_type": "markdown",
      "source": [
        "<li>Removed the not relevant column</li>\n",
        "<li>Replace missing values with mean (for numerical columns) or mode (for categorical columns)\n",
        "<li>Transformed the categorical data to binary features\n",
        "<li>Preprocessed the year columns using a function below\n",
        "<li>standardized the data\n",
        "\n"
      ],
      "metadata": {
        "id": "XRLoqHDdgmc2"
      }
    },
    {
      "cell_type": "code",
      "execution_count": null,
      "metadata": {
        "id": "uPRoWaGnqr7l"
      },
      "outputs": [],
      "source": [
        "def normalize_emp_length(value):\n",
        "       if pd.isna(value):\n",
        "           return 0  # or any suitable numeric value\n",
        "       if isinstance(value, str):\n",
        "           if value == '< 1 year':\n",
        "               return 0\n",
        "           elif value == '10+ years':\n",
        "               return 10\n",
        "           else:\n",
        "               try:\n",
        "                   return int(value.split()[0]) # Extract numeric part\n",
        "               except ValueError:\n",
        "                   print(\"*\\n\"*10)\n",
        "                   print(f\"Unexpected value in emp_length: {value}\")\n",
        "                   return 0  # or any suitable numeric value for unexpected cases\n",
        "       else:\n",
        "           return \"\"  # Assuming it's already a numeric value\n",
        "\n",
        "def check_nulls_in_df(df):\n",
        "  columns_with_nulls = []\n",
        "  for column in df.columns:\n",
        "    if df[column].isnull().any():\n",
        "      columns_with_nulls.append(column)\n",
        "  return columns_with_nulls\n",
        "\n",
        "def pre_process_data(data):\n",
        "\n",
        "  data = data[data['loan_status'].isin(['Fully Paid', 'Charged Off'])].copy()\n",
        "  # print(train_data[train_data['loan_status']=='current'])\n",
        "  data['int_rate'] = data['int_rate'].str.replace('%', '').astype(float)\n",
        "  data['term'] = data['term'].str.replace('months', '').astype(float)\n",
        "  data['revol_util'] = data['revol_util'].str.replace('%', '').astype(float)\n",
        "\n",
        "  data['emp_length'] = data['emp_length'].apply(normalize_emp_length)\n",
        "\n",
        "  # Replace missing values with mean (for numerical columns) or mode (for categorical columns)\n",
        "  data.fillna(data.mode().iloc[0], inplace=True)\n",
        "  # train_data.fillna(train_data.mean(), inplace=True)\n",
        "\n",
        "  # train_data.fillna()\n",
        "\n",
        "  # print(\"train data:\",data.info())\n",
        "\n",
        "\n",
        "  # Check for the existence of the columns before applying pd.get_dummies\n",
        "  columns_to_dummies = ['emp_length','grade', 'sub_grade', 'home_ownership', 'verification_status', 'purpose', 'addr_state', 'application_type']\n",
        "  for column in columns_to_dummies:\n",
        "      if column not in data.columns:\n",
        "          # print(f\"Column '{column}' not found in train_data\")\n",
        "          # Handle the missing column (e.g., skip, create a new column, or raise an error)\n",
        "          # Here, we'll skip creating dummies for missing columns\n",
        "          columns_to_dummies.remove(column)\n",
        "\n",
        "  # Apply pd.get_dummies only to the existing columns\n",
        "  data = pd.get_dummies(data, columns=columns_to_dummies)\n",
        "\n",
        "\n",
        "  # train_data = pd.get_dummies(train_data, columns=['grade', 'sub_grade',  'verification_status', 'purpose', 'addr_state', 'application_type'])\n",
        "\n",
        "\n",
        "  num_features = ['loan_amnt', 'funded_amnt', 'int_rate', 'installment', 'annual_inc', 'dti', 'revol_bal', 'total_acc', 'out_prncp', 'total_pymnt', 'total_rec_prncp', 'total_rec_int']\n",
        "\n",
        "  data['issue_d'] = pd.to_datetime(data['issue_d'], format='%b-%y', errors='coerce')\n",
        "  data['issue_d_year'] = data['issue_d'].dt.year\n",
        "  data['issue_d_month'] = data['issue_d'].dt.month\n",
        "  data = data.drop(columns=['issue_d']) # Remove original 'issue_d' column\n",
        "\n",
        "\n",
        "  # Convert 'earliest_cr_line' to datetime and extract numerical features if present\n",
        "  data['earliest_cr_line'] = pd.to_datetime(data['earliest_cr_line'], format='%b-%y',errors='coerce')\n",
        "  data['earliest_cr_line_year'] = data['earliest_cr_line'].dt.year\n",
        "  data['earliest_cr_line_month'] = data['earliest_cr_line'].dt.month\n",
        "  data = data.drop(columns=['earliest_cr_line']) # Remove original 'earliest_cr_line' column\n",
        "\n",
        "  data['last_pymnt_d'] = pd.to_datetime(data['last_pymnt_d'], format='%b-%y',errors='coerce')\n",
        "  data['last_pymnt_d_year'] = data['last_pymnt_d'].dt.year\n",
        "  data['last_pymnt_d_month'] = data['last_pymnt_d'].dt.month\n",
        "  data = data.drop(columns=['last_pymnt_d'])\n",
        "\n",
        "  data.fillna(data.mode().iloc[0], inplace=True)\n",
        "\n",
        "  # Standardize numerical features\n",
        "  scaler = StandardScaler()\n",
        "  data[num_features] = scaler.fit_transform(data[num_features])\n",
        "\n",
        "\n",
        "\n",
        "\n",
        "  # print(\"train data:\",data.info())\n",
        "\n",
        "  # print(data.head())\n",
        "  return data\n",
        "  pass\n"
      ]
    },
    {
      "cell_type": "code",
      "execution_count": null,
      "metadata": {
        "colab": {
          "base_uri": "https://localhost:8080/"
        },
        "id": "omFw1-7x7x_I",
        "outputId": "614e5031-821d-4f34-8b2d-e17425130842"
      },
      "outputs": [
        {
          "output_type": "stream",
          "name": "stderr",
          "text": [
            "<ipython-input-29-d3ab15ec80b2>:37: FutureWarning: Downcasting object dtype arrays on .fillna, .ffill, .bfill is deprecated and will change in a future version. Call result.infer_objects(copy=False) instead. To opt-in to the future behavior, set `pd.set_option('future.no_silent_downcasting', True)`\n",
            "  data.fillna(data.mode().iloc[0], inplace=True)\n",
            "<ipython-input-29-d3ab15ec80b2>:37: FutureWarning: Downcasting object dtype arrays on .fillna, .ffill, .bfill is deprecated and will change in a future version. Call result.infer_objects(copy=False) instead. To opt-in to the future behavior, set `pd.set_option('future.no_silent_downcasting', True)`\n",
            "  data.fillna(data.mode().iloc[0], inplace=True)\n"
          ]
        }
      ],
      "source": [
        "train_url = \"/content/drive/My Drive/Colab Notebooks/loan_train.csv\"\n",
        "test_url = \"/content/drive/My Drive/Colab Notebooks/loan_test.csv\"\n",
        "\n",
        "# Load the datasets\n",
        "train_data = pd.read_csv(train_url)\n",
        "test_data = pd.read_csv(test_url)\n",
        "\n",
        "# Preprocess both datasets first\n",
        "train_data = pre_process_data(train_data)\n",
        "test_data = pre_process_data(test_data)\n",
        "\n",
        "# Check for nulls and drop columns consistently\n",
        "null_columns = check_nulls_in_df(train_data) # Check nulls in train data\n",
        "null_columns_to_drop = [col for col in null_columns if col in train_data.columns]\n",
        "\n",
        "# Drop columns with nulls from both datasets\n",
        "train_data = train_data.drop(columns=null_columns_to_drop)\n",
        "test_data = test_data.drop(columns=null_columns_to_drop)\n",
        "\n",
        "# Now split the data into X_train, y_train, X_test, y_test\n",
        "X_train = train_data.drop(columns=['last_credit_pull_d','last_pymnt_amnt','initial_list_status','title','pymnt_plan','loan_status', 'id', 'member_id', 'desc', 'url', 'zip_code', 'emp_title'])\n",
        "y_train = train_data['loan_status']\n",
        "\n",
        "X_test = test_data.drop(columns=['last_credit_pull_d','last_pymnt_amnt','initial_list_status','title','pymnt_plan','loan_status', 'id', 'member_id', 'desc', 'url', 'zip_code', 'emp_title'])\n",
        "y_test = test_data['loan_status']\n",
        "\n",
        "\n",
        "common_columns = X_train.columns.intersection(X_test.columns)\n",
        "\n",
        "# print(common_columns)\n",
        "X_train=X_train[common_columns]\n",
        "X_test=X_test[common_columns]\n"
      ]
    },
    {
      "cell_type": "code",
      "execution_count": null,
      "metadata": {
        "colab": {
          "base_uri": "https://localhost:8080/"
        },
        "id": "dG-APvHDuxnY",
        "outputId": "ed9d68c3-1f96-4203-9e39-b9ca892b2178"
      },
      "outputs": [
        {
          "output_type": "stream",
          "name": "stdout",
          "text": [
            "              precision    recall  f1-score   support\n",
            "\n",
            " Charged Off       1.00      0.98      0.99      2153\n",
            "  Fully Paid       1.00      1.00      1.00     12123\n",
            "\n",
            "    accuracy                           1.00     14276\n",
            "   macro avg       1.00      0.99      0.99     14276\n",
            "weighted avg       1.00      1.00      1.00     14276\n",
            "\n",
            "Accuracy: 0.9972681423367891\n"
          ]
        }
      ],
      "source": [
        "#training data cannot have a string for training here\n",
        "from sklearn.ensemble import GradientBoostingClassifier\n",
        "\n",
        "# Initialize and train the gradient boosting model\n",
        "gb_clf = GradientBoostingClassifier(n_estimators=200, learning_rate=0.2, max_depth=7)\n",
        "gb_clf.fit(X_train, y_train)\n",
        "\n",
        "# Make predictions on the test set\n",
        "y_pred = gb_clf.predict(X_test)\n",
        "\n",
        "# Evaluate the model\n",
        "from sklearn.metrics import classification_report, accuracy_score\n",
        "print(classification_report(y_test, y_pred))\n",
        "print(\"Accuracy:\", accuracy_score(y_test, y_pred))"
      ]
    },
    {
      "cell_type": "code",
      "source": [
        "# Define parameter grid\n",
        "param_grid = {\n",
        "    'n_estimators': [100, 200, 300],\n",
        "    'learning_rate': [0.1, 0.2, 0.3],\n",
        "    'max_depth': [3, 5, 7],\n",
        "    'min_samples_split': [2, 5, 10]\n",
        "}\n",
        "\n",
        "# param_grid = {\n",
        "#     'n_estimators': [100 ],\n",
        "#     'learning_rate': [ 0.2],\n",
        "#     'max_depth': [3],\n",
        "#     'min_samples_split': [2, 5]\n",
        "# }\n",
        "\n",
        "\n",
        "scoring = {\n",
        "    'accuracy': 'accuracy',\n",
        "    'precision': make_scorer(precision_score),\n",
        "    'recall': make_scorer(recall_score)\n",
        "}\n",
        "# Initialize GradientBoostingClassifier and GridSearchCV\n",
        "gb_clf = GradientBoostingClassifier()\n",
        "grid_search = GridSearchCV(\n",
        "    estimator=gb_clf,\n",
        "    param_grid=param_grid,\n",
        "    cv=5,\n",
        "    scoring=scoring,\n",
        "    refit='accuracy',  # Use accuracy to select the best model\n",
        "    n_jobs=-1,\n",
        "    verbose=2\n",
        ")\n",
        "# grid_search = GridSearchCV(estimator=gb_clf, param_grid=param_grid, cv=5, scoring='accuracy', n_jobs=-1, verbose=2)\n",
        "\n",
        "# Fit model\n",
        "grid_search.fit(X_train, y_train)\n",
        "\n",
        "# Output best parameters and best score\n",
        "print(\"Best Parameters:\", grid_search.best_params_)\n",
        "print(\"Best Score:\", grid_search.best_score_)\n",
        "\n",
        "\n"
      ],
      "metadata": {
        "id": "lN2W4-sXMrNv"
      },
      "execution_count": null,
      "outputs": []
    },
    {
      "cell_type": "code",
      "source": [
        "# # Define parameter grid\n",
        "# # param_grid = {\n",
        "# #     'n_estimators': [100, 200, 300],\n",
        "# #     'learning_rate': [0.1, 0.2, 0.3],\n",
        "# #     'max_depth': [3, 5, 7],\n",
        "# #     'min_samples_split': [2, 5, 10]\n",
        "# # }\n",
        "\n",
        "# param_grid = {\n",
        "#     'n_estimators': [100 ],\n",
        "#     'learning_rate': [ 0.2],\n",
        "#     'max_depth': [3],\n",
        "#     'min_samples_split': [2, 5]\n",
        "# }\n",
        "\n",
        "# # Update the grid search to include multiple scoring metrics\n",
        "# scoring = {\n",
        "#     'precision': make_scorer(precision_score, zero_division=1),  # Handle cases with zero division\n",
        "#     'recall': make_scorer(recall_score, zero_division=1)\n",
        "# }\n",
        "\n",
        "# grid_search = GridSearchCV(\n",
        "#     estimator=gb_clf,\n",
        "#     param_grid=param_grid,\n",
        "#     cv=5,\n",
        "#     scoring=scoring,\n",
        "#     refit='precision',  # You can refit based on precision or recall, or 'accuracy'\n",
        "#     n_jobs=-1,\n",
        "#     verbose=2\n",
        "# )\n",
        "\n",
        "# # Fit the grid search\n",
        "# grid_search.fit(X_train, y_train)\n",
        "\n",
        "# # Print precision and recall for each parameter set\n",
        "# print(\"\\nPrecision and Recall for each model:\")\n",
        "# for i in range(len(grid_search.cv_results_['params'])):\n",
        "#     params = grid_search.cv_results_['params'][i]\n",
        "#     mean_precision = grid_search.cv_results_['mean_test_precision'][i]\n",
        "#     mean_recall = grid_search.cv_results_['mean_test_recall'][i]\n",
        "#     print(f\"Params: {params}\")\n",
        "#     print(f\"Precision: {mean_precision:.4f}, Recall: {mean_recall:.4f}\\n\")"
      ],
      "metadata": {
        "id": "HdQtFNc2vu0M"
      },
      "execution_count": null,
      "outputs": []
    },
    {
      "cell_type": "markdown",
      "source": [
        "**Increase in the number of trees:**\n",
        "<li>Accuracy increases as the trees increases\n",
        "<li>Accuracy increases upto a certain extent rapidly and then achieves lesser accuracy increase as we increase the number of trees.\n",
        "<li>Model might overfit after certain point\n"
      ],
      "metadata": {
        "id": "EtvZSr8VjMII"
      }
    },
    {
      "cell_type": "code",
      "source": [
        "dt_clf = DecisionTreeClassifier(criterion='entropy', max_depth=None)  # No depth limit\n",
        "dt_clf.fit(X_train, y_train)\n",
        "y_pred_dt = dt_clf.predict(X_test)\n",
        "\n",
        "y_test_numeric = y_test.map({'Charged Off': 0, 'Fully Paid': 1})\n",
        "y_pred_dt_numeric = pd.Series(y_pred_dt).map({'Charged Off': 0, 'Fully Paid': 1})\n",
        "\n",
        "accuracy_dt = accuracy_score(y_test_numeric, y_pred_dt_numeric)\n",
        "precision_dt = precision_score(y_test_numeric, y_pred_dt_numeric)\n",
        "recall_dt = recall_score(y_test_numeric, y_pred_dt_numeric)\n",
        "\n",
        "\n",
        "print(\"Decision Tree Classifier Performance:\")\n",
        "print(f\"Accuracy: {accuracy_dt:.4f}\")\n",
        "print(f\"Precision: {precision_dt:.4f}\")\n",
        "print(f\"Recall: {recall_dt:.4f}\")"
      ],
      "metadata": {
        "colab": {
          "base_uri": "https://localhost:8080/"
        },
        "id": "VCkdIxN3k5EO",
        "outputId": "75881119-f37e-4049-9ee7-e4584f95c714"
      },
      "execution_count": null,
      "outputs": [
        {
          "output_type": "stream",
          "name": "stdout",
          "text": [
            "Decision Tree Classifier Performance:\n",
            "Accuracy: 0.9970\n",
            "Precision: 0.9977\n",
            "Recall: 0.9988\n"
          ]
        }
      ]
    }
  ],
  "metadata": {
    "colab": {
      "provenance": [],
      "gpuType": "V28"
    },
    "kernelspec": {
      "display_name": "Python 3",
      "name": "python3"
    },
    "language_info": {
      "name": "python"
    },
    "accelerator": "TPU"
  },
  "nbformat": 4,
  "nbformat_minor": 0
}