{
  "nbformat": 4,
  "nbformat_minor": 0,
  "metadata": {
    "colab": {
      "provenance": []
    },
    "kernelspec": {
      "name": "python3",
      "display_name": "Python 3"
    },
    "language_info": {
      "name": "python"
    }
  },
  "cells": [
    {
      "cell_type": "code",
      "source": [
        "import numpy as np\n",
        "from sklearn.model_selection import KFold\n",
        "from sklearn.model_selection import train_test_split\n",
        "from collections import Counter\n",
        "from collections import defaultdict # import defaultdict from collections module\n",
        "from sklearn.metrics import accuracy_score\n",
        "import pandas as pd\n",
        "import matplotlib.pyplot as plt\n",
        "path=\"https://sites.stat.washington.edu/courses/stat527/s14/homework/hw5/spam.data\"\n"
      ],
      "metadata": {
        "id": "136gylpcDScL"
      },
      "execution_count": 2,
      "outputs": []
    },
    {
      "cell_type": "code",
      "source": [
        "class Node:\n",
        "    def __init__(self, impurity, num_samples, num_samples_per_class, predicted_class):\n",
        "        self.impurity = impurity  # Entropy or Gini impurity of the node\n",
        "        self.num_samples = num_samples  # Total samples in the node\n",
        "        self.num_samples_per_class = num_samples_per_class  # Number of samples per class in the node\n",
        "        self.predicted_class = predicted_class  # Class with max samples in this node\n",
        "        self.feature_index = 0  # Index of feature for splitting\n",
        "        self.threshold = 0  # Threshold for splitting\n",
        "        self.left = None  # Left child node\n",
        "        self.right = None  # Right child node\n",
        "\n",
        "class DecisionTree:\n",
        "    def __init__(self, max_depth=None,max_features=None):\n",
        "        self.max_depth = max_depth\n",
        "        self.tree = None\n",
        "        self.max_features = max_features\n",
        "        # self.root = Node()\n",
        "\n",
        "    def fit(self, X, y):\n",
        "        # Implement your decision tree fitting method\n",
        "        pass\n",
        "\n",
        "    def predict_tree(self,node, X):\n",
        "      \"\"\"Make a prediction for a single sample.\"\"\"\n",
        "      while node.left:\n",
        "          if X[node.feature_index] < node.threshold:\n",
        "              node = node.left\n",
        "          else:\n",
        "              node = node.right\n",
        "      return node.predicted_class\n",
        "\n",
        "    def split_dataset(self,X, y, feature_index, threshold):\n",
        "        \"\"\"Split the dataset based on the feature index and threshold.\"\"\"\n",
        "        left = X[:, feature_index] < threshold\n",
        "        right = ~left\n",
        "        return X[left], y[left], X[right], y[right]\n",
        "\n",
        "    def entropy(self,y):\n",
        "        \"\"\"Calculate the entropy for a list of classes.\"\"\"\n",
        "        m = len(y)\n",
        "        if m == 0:\n",
        "            return 0\n",
        "\n",
        "        unique_values, counts = np.unique(y, return_counts=True)\n",
        "        class_counts = dict(zip(unique_values, counts))\n",
        "        # print(\"class counts:\",class_counts)\n",
        "\n",
        "        # class_counts = np.bincount(y)\n",
        "        probabilities = np.array(list(class_counts.values()))[np.array(list(class_counts.values())) > 0] / m  # Correct way to filter for dictionary values\n",
        "        # print(\"probabilities\",probabilities)\n",
        "\n",
        "        return -np.sum(probabilities * np.log2(probabilities))\n",
        "\n",
        "        probabilities = class_counts[class_counts > 0] / m\n",
        "        return -np.sum(probabilities * np.log2(probabilities))\n",
        "\n",
        "    def best_split(self, X, y):\n",
        "      # Initialize best parameters\n",
        "      best_feature, best_threshold, best_gain = None, None, -np.inf\n",
        "      base_entropy = self.entropy(y)  # Entropy before the split\n",
        "      n_samples, n_features = X.shape\n",
        "\n",
        "      feature_indices = np.random.choice(n_features, self.max_features, replace=False)\n",
        "      # print(\"feature_indices:\",feature_indices)\n",
        "\n",
        "      for feature_index in feature_indices:\n",
        "      # for feature_index in range(n_features):\n",
        "          # Get unique thresholds to try for this feature\n",
        "          thresholds = np.unique(X[:, feature_index])\n",
        "\n",
        "          for threshold in thresholds:\n",
        "              # Partition the data based on the threshold\n",
        "              left_mask = X[:, feature_index] <= threshold\n",
        "              right_mask = ~left_mask  # Inverse of left mask\n",
        "\n",
        "              if np.sum(left_mask) == 0 or np.sum(right_mask) == 0:\n",
        "                  continue  # Skip if split results in an empty partition\n",
        "\n",
        "              # Calculate entropies of the partitions\n",
        "              left_entropy = self.entropy(y[left_mask])\n",
        "              right_entropy = self.entropy(y[right_mask])\n",
        "\n",
        "              # Weighted average of the entropy after the split\n",
        "              left_weight = np.sum(left_mask) / n_samples\n",
        "              right_weight = np.sum(right_mask) / n_samples\n",
        "              weighted_entropy = left_weight * left_entropy + right_weight * right_entropy\n",
        "\n",
        "              # Calculate information gain\n",
        "              gain = base_entropy - weighted_entropy\n",
        "\n",
        "              # Update the best split if we have found a better gain\n",
        "              if gain > best_gain:\n",
        "                  best_gain = gain\n",
        "                  best_feature = feature_index\n",
        "                  best_threshold = threshold\n",
        "\n",
        "      return best_feature, best_threshold\n",
        "\n",
        "    # def best_split(self, X, y):\n",
        "    #     \"\"\"Find the best feature and threshold to split the dataset.\"\"\"\n",
        "    #     best_impurity = float(\"inf\")  # Start with maximum impurity\n",
        "    #     best_index, best_threshold = None, None\n",
        "    #     m, n_features = X.shape\n",
        "\n",
        "    #     for feature_index in range(n_features):\n",
        "    #         thresholds, classes = zip(*sorted(zip(X[:, feature_index], y)))\n",
        "    #         num_left = [0] * 2\n",
        "    #         num_right = [np.sum(classes == c) for c in np.unique(y)]\n",
        "\n",
        "    #         for i in range(1, m):\n",
        "    #             c = classes[i - 1]\n",
        "    #             print(\"c:\",c)\n",
        "    #             num_left[c] += 1\n",
        "    #             num_right[c] -= 1\n",
        "    #             entropy_left = self.entropy(np.array(classes[:i]))\n",
        "    #             entropy_right = self.entropy(np.array(classes[i:]))\n",
        "    #             impurity = (i * entropy_left + (m - i) * entropy_right) / m\n",
        "\n",
        "    #             if thresholds[i] == thresholds[i - 1]:\n",
        "    #                 continue\n",
        "\n",
        "    #             if impurity < best_impurity:\n",
        "    #                 best_impurity = impurity\n",
        "    #                 best_index = feature_index\n",
        "    #                 best_threshold = (thresholds[i] + thresholds[i - 1]) / 2\n",
        "\n",
        "    #     return best_index, best_threshold\n",
        "\n",
        "    def build_tree(self,X, y, depth=0, max_depth=10):\n",
        "      \"\"\"Recursively build a decision tree.\"\"\"\n",
        "      num_samples_per_class = [np.sum(y == i) for i in np.unique(y)]\n",
        "      predicted_class = np.argmax(num_samples_per_class)\n",
        "      node = Node(\n",
        "          impurity=self.entropy(y),\n",
        "          num_samples=len(y),\n",
        "          num_samples_per_class=num_samples_per_class,\n",
        "          predicted_class=predicted_class,\n",
        "      )\n",
        "\n",
        "      if depth < max_depth:\n",
        "          index, threshold = self.best_split(X, y)\n",
        "          if index is not None:\n",
        "              X_left, y_left, X_right, y_right = self.split_dataset(X, y, index, threshold)\n",
        "              if len(X_left) > 0 and len(X_right) > 0:\n",
        "                  node.feature_index = index\n",
        "                  node.threshold = threshold\n",
        "                  node.left = self.build_tree(X_left, y_left, depth + 1, max_depth)\n",
        "                  node.right = self.build_tree(X_right, y_right, depth + 1, max_depth)\n",
        "      return node\n",
        "\n",
        "class RandomForest:\n",
        "    def __init__(self, n_trees=100, max_depth=None, min_samples_split=2, max_features=None):\n",
        "        self.n_trees = n_trees\n",
        "        self.max_depth = max_depth\n",
        "        self.min_samples_split = min_samples_split\n",
        "        self.max_features = max_features\n",
        "        self.trees = []\n",
        "        self.oob_predictions = defaultdict(list)  # Store OOB predictions\n",
        "        self.oob_score_ = None\n",
        "\n",
        "    def _bootstrap_sample(self, X, y):\n",
        "        n_samples = X.shape[0]\n",
        "        indices = np.random.choice(n_samples, n_samples, replace=True)\n",
        "        oob_indices = list(set(range(n_samples)) - set(indices))\n",
        "\n",
        "\n",
        "        # print(\"indices:\",indices)\n",
        "        return X[indices], y[indices], oob_indices\n",
        "\n",
        "    def fit(self, X, y):\n",
        "        self.trees = []\n",
        "        for _ in range(self.n_trees):\n",
        "            # tree = DecisionTree(max_depth=self.max_depth)\n",
        "            X_sample, y_sample, oob_indices = self._bootstrap_sample(X, y)\n",
        "\n",
        "            decision_tree=DecisionTree(max_features=self.max_features)\n",
        "            # print(\"random set size:\",self.max_features)\n",
        "            # tree.fit(X_sample, y_sample\n",
        "            tree = decision_tree.build_tree(X_sample, y_sample, max_depth=10)\n",
        "            # y_pred = [decision_tree.predict_tree(tree, x) for x in X_test]\n",
        "\n",
        "            # tree.fit(X_sample, y_sample)\n",
        "            self.trees.append([decision_tree,tree])\n",
        "\n",
        "            # oob_predictions = tree.predict(X[oob_indices])\n",
        "            oob_predictions = [decision_tree.predict_tree(tree, x) for x in X[oob_indices]]  # Changed line\n",
        "\n",
        "\n",
        "            for idx, pred in zip(oob_indices, oob_predictions):\n",
        "                self.oob_predictions[idx].append(pred)\n",
        "\n",
        "        self.calculate_oob_score(y)\n",
        "        return self.oob_score_\n",
        "\n",
        "    def calculate_oob_score(self, y):\n",
        "        oob_correct = 0\n",
        "        oob_total = 0\n",
        "\n",
        "        # Aggregate predictions for each OOB sample\n",
        "        for idx, preds in self.oob_predictions.items():\n",
        "            if len(preds) > 0:\n",
        "                # Majority vote for classification\n",
        "                final_pred = Counter(preds).most_common(1)[0][0]\n",
        "                if final_pred == y[idx]:\n",
        "                    oob_correct += 1\n",
        "                oob_total += 1\n",
        "\n",
        "        # Calculate the OOB accuracy\n",
        "        self.oob_score_ = oob_correct / oob_total if oob_total > 0 else None\n",
        "        print(f\"OOB Score: {self.oob_score_}\")\n",
        "\n",
        "    def predict(self, X_test):\n",
        "        # y_pred = [decision_tree.predict_tree(tree, x) for x in X_test]\n",
        "        # print(\"thisssss:\",[x for x in X_test])\n",
        "        # [(tree.predict_tree(root,X) ) for tree,root in  my_rf.trees]\n",
        "        tree_predictions=[]\n",
        "        for tree,root in self.trees:\n",
        "          y_pred = [tree.predict_tree(root, x) for x in X_test]\n",
        "          tree_predictions.append(y_pred)\n",
        "          pass\n",
        "\n",
        "        # tree_predictions = np.array([tree.predict_tree(root,X) for tree,root in self.trees])\n",
        "        # Majority voting\n",
        "        # tree_predictions = list(zip(*tree_predictions))\n",
        "        tree_predictions = np.array(tree_predictions)\n",
        "\n",
        "        return [Counter(tree_predictions[:, i]).most_common(1)[0][0] for i in range(X_test.shape[0])]\n"
      ],
      "metadata": {
        "id": "W_oawvTEFNgb"
      },
      "execution_count": 3,
      "outputs": []
    },
    {
      "cell_type": "code",
      "source": [
        "data = np.loadtxt(path)\n",
        "\n",
        "# Separate features (X) and labels (y)\n",
        "X = data[:, :-1]  # All columns except the last one for features\n",
        "y = data[:, -1]   # Last column for labels\n",
        "\n",
        "# Split the data into training (70%) and testing (30%) sets\n",
        "X_train, X_test, y_train, y_test = train_test_split(X, y, test_size=0.3, random_state=42)\n",
        "\n",
        "print(\"Training data shape:\", X_train.shape)\n",
        "print(\"Test data shape:\", X_test.shape)\n",
        "print(\"Training labels shape:\", y_train.shape)\n",
        "print(\"Test labels shape:\", y_test.shape)\n",
        "\n"
      ],
      "metadata": {
        "colab": {
          "base_uri": "https://localhost:8080/"
        },
        "id": "jGxc6YV-J1ka",
        "outputId": "02ad3027-a0d4-4d43-995b-a3713df3c0a0"
      },
      "execution_count": 4,
      "outputs": [
        {
          "output_type": "stream",
          "name": "stdout",
          "text": [
            "Training data shape: (3220, 57)\n",
            "Test data shape: (1381, 57)\n",
            "Training labels shape: (3220,)\n",
            "Test labels shape: (1381,)\n"
          ]
        }
      ]
    },
    {
      "cell_type": "markdown",
      "source": [
        "\n",
        "OOB Score: 0.9041512714627254\n",
        "My Random Forest Accuracy: 0.9116582186821144\n",
        "Scikit-Learn Random Forest Accuracy: 0.9333816075307748"
      ],
      "metadata": {
        "id": "KmJbVx-DyclX"
      }
    },
    {
      "cell_type": "code",
      "source": [
        "# Train your Random Forest\n",
        "# for set_size in range(int(np.sqrt(X_train.shape[1]))):\n",
        "# for n_trees in range(10,150,10):\n",
        "#   print(\"n_trees\",n_trees)\n",
        "# for set_size in range(10,X_train.shape[1],10):\n",
        "#   print(\"set size\",set_size)\n",
        "#   # my_rf = RandomForest(n_trees=100, max_depth=10, max_features=set_size)\n",
        "my_rf = RandomForest(n_trees=100, max_depth=10, max_features=30)\n",
        "oob_error=my_rf.fit(X, y)\n",
        "# my_rf.fit(X_train, y_train)\n",
        "y_pred = my_rf.predict(X_test)\n",
        "accuracy = np.mean(y_pred == y_test)\n",
        "print(f\"My Random Forest Accuracy: {accuracy}\")\n",
        "\n",
        "# Compare with Scikit-Learn\n",
        "from sklearn.ensemble import RandomForestClassifier\n",
        "clf = RandomForestClassifier(n_estimators=10, max_depth=10, max_features='sqrt')\n",
        "clf.fit(X_train, y_train)\n",
        "print(f\"Scikit-Learn Random Forest Accuracy: {clf.score(X_test, y_test)}\")\n"
      ],
      "metadata": {
        "colab": {
          "base_uri": "https://localhost:8080/"
        },
        "id": "JJrY6cq0J7UP",
        "outputId": "87c2393e-11f0-4327-9e26-0c99a38304d7"
      },
      "execution_count": 5,
      "outputs": [
        {
          "output_type": "stream",
          "name": "stdout",
          "text": [
            "OOB Score: 0.9006737665724842\n",
            "My Random Forest Accuracy: 0.9109341057204924\n",
            "Scikit-Learn Random Forest Accuracy: 0.939174511223751\n"
          ]
        }
      ]
    },
    {
      "cell_type": "markdown",
      "source": [
        "**5: Random Forest **\n",
        "\n",
        "\n",
        "\n",
        "#5B:  Test Accuracy Plot:\n",
        "A similar pattern is expected for test accuracy: as max_features increases, accuracy may initially improve but could plateau or even decrease with too many features due to overfitting.\n",
        "\n",
        "\n",
        "#5C: OOB Error Plot:\n",
        "\n",
        "Typically, as max_features increases, the OOB error may initially decrease as more features allow for better splits and more complex decision boundaries.\n",
        "After a certain point, the OOB error may plateau or increase slightly, as too many features can introduce noise or redundancy, which doesn’t improve model performance.\n",
        "\n",
        "```\n",
        "Following Graph plots the relationship between accuracy and Number of parameters\n",
        "```"
      ],
      "metadata": {
        "id": "evn92-iOzUZN"
      }
    },
    {
      "cell_type": "code",
      "source": [
        "# m_values = [50]\n",
        "m_values = [10, 20, 30, 40,50]\n",
        "\n",
        "\n",
        "oob_errors = []\n",
        "test_errors = []\n",
        "\n",
        "for m in m_values:\n",
        "    # Initialize RandomForest with current value of m (max_features)\n",
        "    my_rf = RandomForest(n_trees=100, max_depth=10, max_features=m)\n",
        "\n",
        "    # Train the model and get the OOB error\n",
        "    oob_error = my_rf.fit(X_train, y_train)  # Assume fit returns OOB error\n",
        "    oob_errors.append(oob_error)\n",
        "\n",
        "    # Predict on the test set and calculate test error\n",
        "    y_pred = my_rf.predict(X_test)\n",
        "    test_error = 1 - accuracy_score(y_test, y_pred)\n",
        "    test_errors.append(test_error)\n",
        "\n"
      ],
      "metadata": {
        "colab": {
          "base_uri": "https://localhost:8080/"
        },
        "id": "DV7vHAO4rfZv",
        "outputId": "4acb587e-5505-49e2-c0c0-8631e7d57bb2"
      },
      "execution_count": 6,
      "outputs": [
        {
          "output_type": "stream",
          "name": "stdout",
          "text": [
            "OOB Score: 0.9145962732919255\n"
          ]
        }
      ]
    },
    {
      "cell_type": "code",
      "source": [
        "\n",
        "# Plotting OOB error and Test error\n",
        "plt.figure(figsize=(10, 5))\n",
        "plt.plot(m_values, oob_errors, label=\"OOB Error\", marker='o')\n",
        "plt.plot(m_values, test_errors, label=\"Test Error\", marker='s')\n",
        "plt.xlabel(\"Number of Features (m)\")\n",
        "plt.ylabel(\"Error\")\n",
        "plt.title(\"OOB Error and Test Error vs Number of Features\")\n",
        "plt.legend()\n",
        "plt.show()"
      ],
      "metadata": {
        "colab": {
          "base_uri": "https://localhost:8080/",
          "height": 487
        },
        "id": "Y7bzyKODTVDH",
        "outputId": "32501f97-9114-406b-ed97-cd56ef5c67bb"
      },
      "execution_count": 20,
      "outputs": [
        {
          "output_type": "display_data",
          "data": {
            "text/plain": [
              "<Figure size 1000x500 with 1 Axes>"
            ],
            "image/png": "[encoded data removed]"
          },
          "metadata": {}
        }
      ]
    }
  ]
}