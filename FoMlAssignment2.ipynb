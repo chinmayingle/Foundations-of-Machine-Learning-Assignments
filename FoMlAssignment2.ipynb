{
  "nbformat": 4,
  "nbformat_minor": 0,
  "metadata": {
    "colab": {
      "provenance": []
    },
    "kernelspec": {
      "name": "python3",
      "display_name": "Python 3"
    },
    "language_info": {
      "name": "python"
    }
  },
  "cells": [
    {
      "cell_type": "code",
      "source": [
        "#importing reqired libraries\n",
        "import pandas as pd\n",
        "import numpy as np\n",
        "from sklearn.svm import SVC\n",
        "from sklearn.metrics import accuracy_score\n"
      ],
      "metadata": {
        "id": "5ubQFZ0W2J1B"
      },
      "execution_count": 1,
      "outputs": []
    },
    {
      "cell_type": "code",
      "source": [
        "\n",
        "#test and training data urls\n",
        "train_url = 'http://www.amlbook.com/data/zip/features.train'\n",
        "test_url = 'http://www.amlbook.com/data/zip/features.test'\n",
        "\n",
        "# Load the datasets\n",
        "train_data = pd.read_csv(train_url, sep='\\s+', header=None)\n",
        "test_data = pd.read_csv(test_url, sep='\\s+', header=None)\n"
      ],
      "metadata": {
        "id": "YoKoX-ws08pK"
      },
      "execution_count": 3,
      "outputs": []
    },
    {
      "cell_type": "code",
      "source": [
        "#To check if the data is parsed correctly\n",
        "print(train_data.shape)\n",
        "print(test_data.shape )"
      ],
      "metadata": {
        "colab": {
          "base_uri": "https://localhost:8080/"
        },
        "id": "hO8lQYNi2aPc",
        "outputId": "e304e105-5e1a-4593-ca82-716b993e537b"
      },
      "execution_count": 4,
      "outputs": [
        {
          "output_type": "stream",
          "name": "stdout",
          "text": [
            "(7291, 3)\n",
            "(2007, 3)\n"
          ]
        }
      ]
    },
    {
      "cell_type": "code",
      "source": [
        "# Assign column names\n",
        "train_data.columns = ['label', 'intensity', 'symmetry']\n",
        "test_data.columns = ['label', 'intensity', 'symmetry']\n",
        "\n",
        "# Filter the data for label 1 and 5\n",
        "train_data_filtered = train_data.loc[(train_data['label'] == 1) | (train_data['label'] == 5)]\n",
        "test_data_filtered = test_data.loc[(test_data['label'] == 1) | (test_data['label'] == 5)]\n",
        "\n",
        "# Convert labels: map 1 to +1 and 5 to -1 using loc to avoid warnings\n",
        "train_data_filtered.loc[:, 'label'] = train_data_filtered['label'].map({1: 1, 5: -1})\n",
        "test_data_filtered.loc[:, 'label'] = test_data_filtered['label'].map({1: 1, 5: -1})\n",
        "\n",
        "# Split the features and labels\n",
        "X_train = train_data_filtered[['intensity', 'symmetry']].values\n",
        "y_train = train_data_filtered['label'].values\n",
        "\n",
        "X_test = test_data_filtered[['intensity', 'symmetry']].values\n",
        "y_test = test_data_filtered['label'].values\n",
        "\n"
      ],
      "metadata": {
        "id": "2xH63i506UDe"
      },
      "execution_count": 5,
      "outputs": []
    },
    {
      "cell_type": "markdown",
      "source": [
        "**4A**"
      ],
      "metadata": {
        "id": "YY4KkSJ-GuT-"
      }
    },
    {
      "cell_type": "code",
      "source": [
        "# Train a linear SVM (soft-margin)\n",
        "svm_clf = SVC(kernel='linear', C=1.0)  # C is the regularization parameter\n",
        "svm_clf.fit(X_train, y_train)\n",
        "\n",
        "# Predict on the test set\n",
        "y_pred = svm_clf.predict(X_test)\n",
        "\n",
        "# Calculate accuracy\n",
        "accuracy = accuracy_score(y_test, y_pred)\n",
        "\n",
        "# Get the number of support vectors\n",
        "n_support_vectors = len(svm_clf.support_)\n",
        "\n",
        "# Output results\n",
        "\n",
        "print(f\"Accuracy on test set: {accuracy * 100:.2f}%\")\n",
        "print(f\"Number of support vectors: {n_support_vectors}\")"
      ],
      "metadata": {
        "colab": {
          "base_uri": "https://localhost:8080/"
        },
        "id": "bEi3JPbQRZeN",
        "outputId": "8ac4d69e-96e2-4abe-bbaf-fd218c64174e"
      },
      "execution_count": 6,
      "outputs": [
        {
          "output_type": "stream",
          "name": "stdout",
          "text": [
            "Accuracy on test set: 97.88%\n",
            "Number of support vectors: 28\n"
          ]
        }
      ]
    },
    {
      "cell_type": "markdown",
      "source": [
        "**4B:**"
      ],
      "metadata": {
        "id": "of2c7cODG3ky"
      }
    },
    {
      "cell_type": "code",
      "source": [
        "subset_sizes = [50, 100, 200, 800]\n",
        "\n",
        "# Iterate over each subset size\n",
        "for size in subset_sizes:\n",
        "    print(f\"\\nTraining with first {size} points:\")\n",
        "\n",
        "    # Subset the training data\n",
        "    X_train_sample = train_data_filtered[['intensity', 'symmetry']].head(size).values\n",
        "    y_train_sample = train_data_filtered['label'].head(size).values\n",
        "\n",
        "    #printing the shape\n",
        "    print(X_train_sample.shape)\n",
        "    print(y_train_sample.shape)\n",
        "\n",
        "    # Train a linear SVM (soft-margin)\n",
        "    svm_clf = SVC(kernel='linear', C=1.0)  # C is the regularization parameter\n",
        "    svm_clf.fit(X_train_sample, y_train_sample)\n",
        "\n",
        "    # Predict on the test set\n",
        "    y_pred = svm_clf.predict(X_test)\n",
        "\n",
        "    # Calculate accuracy\n",
        "    accuracy = accuracy_score(y_test, y_pred)\n",
        "\n",
        "    # Get the number of support vectors\n",
        "    support_vectors = len(svm_clf.support_)\n",
        "\n",
        "    # Output results\n",
        "\n",
        "    print(f\"Accuracy on test set: {accuracy * 100:.2f}%\")\n",
        "    print(f\"Number of support vectors: {support_vectors}\")"
      ],
      "metadata": {
        "colab": {
          "base_uri": "https://localhost:8080/"
        },
        "id": "CYn-kCpK60Nt",
        "outputId": "fce7bfb1-e7c0-40eb-c3ff-3b3f07fde9d9"
      },
      "execution_count": 16,
      "outputs": [
        {
          "output_type": "stream",
          "name": "stdout",
          "text": [
            "\n",
            "Training with first 50 points:\n",
            "(50, 2)\n",
            "(50,)\n",
            "Accuracy on test set: 98.11%\n",
            "Number of support vectors: 2\n",
            "\n",
            "Training with first 100 points:\n",
            "(100, 2)\n",
            "(100,)\n",
            "Accuracy on test set: 98.11%\n",
            "Number of support vectors: 4\n",
            "\n",
            "Training with first 200 points:\n",
            "(200, 2)\n",
            "(200,)\n",
            "Accuracy on test set: 98.11%\n",
            "Number of support vectors: 8\n",
            "\n",
            "Training with first 800 points:\n",
            "(800, 2)\n",
            "(800,)\n",
            "Accuracy on test set: 98.11%\n",
            "Number of support vectors: 14\n"
          ]
        }
      ]
    },
    {
      "cell_type": "code",
      "source": [
        "def test_polynomial_kernel(Q, C):\n",
        "    print(f\"Testing for Q={Q}, C={C}\")\n",
        "\n",
        "    # Create SVM with polynomial kernel\n",
        "    model = SVC(kernel='poly', degree=Q, C=C, coef0=1)\n",
        "\n",
        "    # Train the model\n",
        "    model.fit(X_train, y_train)\n",
        "\n",
        "    # Predict on training and test data\n",
        "    y_train_pred = model.predict(X_train)\n",
        "    y_test_pred = model.predict(X_test)\n",
        "\n",
        "    # Compute training and test errors\n",
        "    train_error = 1 - accuracy_score(y_train, y_train_pred)\n",
        "    test_error = 1 - accuracy_score(y_test, y_test_pred)\n",
        "\n",
        "    # Number of support vectors\n",
        "    num_support_vectors = len(model.support_)\n",
        "\n",
        "    # Print results\n",
        "    print(f\"Training Error: {train_error}\")\n",
        "    print(f\"Test Error: {test_error}\")\n",
        "    print(f\"Number of Support Vectors: {num_support_vectors}\")\n",
        "    print()\n",
        "\n",
        "# Testing the different conditions as per the question\n",
        "C_values = [0.0001, 0.001, 0.01, 1]\n",
        "\n",
        "for C in C_values:\n",
        "    test_polynomial_kernel(Q=2, C=C)  # Test for Q = 2\n",
        "    test_polynomial_kernel(Q=5, C=C)  # Test for Q = 5"
      ],
      "metadata": {
        "colab": {
          "base_uri": "https://localhost:8080/"
        },
        "id": "kL1t7wY1RPO3",
        "outputId": "158d1d3e-ce0b-401a-9ec3-e84b36b74c3b"
      },
      "execution_count": 15,
      "outputs": [
        {
          "output_type": "stream",
          "name": "stdout",
          "text": [
            "Testing for Q=2, C=0.0001\n",
            "Training Error: 0.25368353619474693\n",
            "Test Error: 0.2570754716981132\n",
            "Number of Support Vectors: 1112\n",
            "\n",
            "Testing for Q=5, C=0.0001\n",
            "Training Error: 0.018577834721332454\n",
            "Test Error: 0.028301886792452824\n",
            "Number of Support Vectors: 188\n",
            "\n",
            "Testing for Q=2, C=0.001\n",
            "Training Error: 0.014093529788597015\n",
            "Test Error: 0.02594339622641506\n",
            "Number of Support Vectors: 456\n",
            "\n",
            "Testing for Q=5, C=0.001\n",
            "Training Error: 0.006406149903907754\n",
            "Test Error: 0.018867924528301883\n",
            "Number of Support Vectors: 72\n",
            "\n",
            "Testing for Q=2, C=0.01\n",
            "Training Error: 0.005124919923126248\n",
            "Test Error: 0.018867924528301883\n",
            "Number of Support Vectors: 132\n",
            "\n",
            "Testing for Q=5, C=0.01\n",
            "Training Error: 0.004484304932735439\n",
            "Test Error: 0.01650943396226412\n",
            "Number of Support Vectors: 34\n",
            "\n",
            "Testing for Q=2, C=1\n",
            "Training Error: 0.004484304932735439\n",
            "Test Error: 0.021226415094339646\n",
            "Number of Support Vectors: 28\n",
            "\n",
            "Testing for Q=5, C=1\n",
            "Training Error: 0.0038436899423446302\n",
            "Test Error: 0.02358490566037741\n",
            "Number of Support Vectors: 25\n",
            "\n"
          ]
        }
      ]
    },
    {
      "cell_type": "markdown",
      "source": [
        "According to the examples and data set we have the following results\n",
        "1.   When C = 0.0001, training error is higher at Q = 5: **True**\n",
        "2.   When C = 0.001, the number of support vectors is lower at Q = 5: **True**\n",
        "\n",
        "1.   When C = 0.01, training error is higher at Q = 5: **False**\n",
        "2.   When C = 1, test error is lower at Q = 5: **False**\n",
        "\n",
        "\n",
        "\n",
        "\n",
        "\n"
      ],
      "metadata": {
        "id": "S7IC2Yn9RUe-"
      }
    },
    {
      "cell_type": "markdown",
      "source": [
        "**4 D**"
      ],
      "metadata": {
        "id": "YhFL_Zl6HDn3"
      }
    },
    {
      "cell_type": "code",
      "source": [
        "C_values = [0.01, 1, 100, 10**4, 10**6]\n",
        "\n",
        "# Initialize lists to store error values\n",
        "training_errors = []\n",
        "test_errors = []\n",
        "\n",
        "# Train and evaluate for each value of C\n",
        "for C in C_values:\n",
        "    # Create the SVM model with RBF kernel\n",
        "    model = SVC(kernel='rbf', C=C)\n",
        "\n",
        "    # Train the model\n",
        "    model.fit(X_train, y_train)\n",
        "\n",
        "    # Predict on training and test sets\n",
        "    y_train_pred = model.predict(X_train)\n",
        "    y_test_pred = model.predict(X_test)\n",
        "\n",
        "    # Compute accuracy\n",
        "    train_accuracy = accuracy_score(y_train, y_train_pred)\n",
        "    test_accuracy = accuracy_score(y_test, y_test_pred)\n",
        "\n",
        "    # Compute error\n",
        "    train_error = 1 - train_accuracy\n",
        "    test_error = 1 - test_accuracy\n",
        "\n",
        "    # Store the errors\n",
        "    training_errors.append(train_error)\n",
        "    test_errors.append(test_error)\n",
        "\n",
        "    # Print the results for each C\n",
        "    # print(f\"C = {C}:\")\n",
        "    # print(f\"  Training Error: {train_error:.4f}\")\n",
        "    # print(f\"  Test Error: {test_error:.4f}\")\n",
        "\n",
        "# Summary of errors\n",
        "\n",
        "for i, C in enumerate(C_values):\n",
        "    print(f\"C = {C}: Training Error = {training_errors[i]*100:.4f}%, Test Error = {test_errors[i]*100:.4f}%\")"
      ],
      "metadata": {
        "colab": {
          "base_uri": "https://localhost:8080/"
        },
        "id": "AvcKBgGD71Mh",
        "outputId": "25f791b6-02ce-4d3b-efb3-fb928b46a9ab"
      },
      "execution_count": 10,
      "outputs": [
        {
          "output_type": "stream",
          "name": "stdout",
          "text": [
            "C = 0.01: Training Error = 0.5125%, Test Error = 1.6509%\n",
            "C = 1: Training Error = 0.4484%, Test Error = 2.1226%\n",
            "C = 100: Training Error = 0.3203%, Test Error = 1.8868%\n",
            "C = 10000: Training Error = 0.2562%, Test Error = 1.8868%\n",
            "C = 1000000: Training Error = 0.2562%, Test Error = 2.3585%\n"
          ]
        }
      ]
    },
    {
      "cell_type": "markdown",
      "source": [
        "**5**\n",
        "We are using SVM from sklearn to compute SVM with different kernels"
      ],
      "metadata": {
        "id": "VOL37qbkCaPB"
      }
    },
    {
      "cell_type": "code",
      "source": [
        "from sklearn.preprocessing import StandardScaler\n",
        "# Standardize the data (scaling the features)\n",
        "scaler = StandardScaler()\n",
        "X_train_scaled = scaler.fit_transform(X_train)\n",
        "X_test_scaled = scaler.transform(X_test)\n",
        "\n",
        "# Function to train and evaluate SVM\n",
        "def train_and_evaluate_svm(X_train, y_train, X_test, y_test, kernel, **kwargs):\n",
        "    model = SVC(kernel=kernel, **kwargs)\n",
        "    model.fit(X_train, y_train)\n",
        "\n",
        "    # Predict on train and test data\n",
        "    y_train_pred = model.predict(X_train)\n",
        "    y_test_pred = model.predict(X_test)\n",
        "\n",
        "    # Compute training and test accuracy\n",
        "    train_accuracy = accuracy_score(y_train, y_train_pred)\n",
        "    test_accuracy = accuracy_score(y_test, y_test_pred)\n",
        "\n",
        "    # Compute training and test errors\n",
        "    train_error = 1 - train_accuracy\n",
        "    test_error = 1 - test_accuracy\n",
        "\n",
        "    # Number of support vectors\n",
        "    num_support_vectors = len(model.support_)\n",
        "\n",
        "    return train_error, test_error, num_support_vectors\n",
        "\n",
        "# (a) Linear kernel\n",
        "print(\"5 A Question's Answer: \")\n",
        "train_error_linear, test_error_linear, num_sv_linear = train_and_evaluate_svm(X_train_scaled, y_train, X_test_scaled, y_test, kernel='linear')\n",
        "print(f\"Linear Kernel: Train Error = {train_error_linear:.4f}, Test Error = {test_error_linear:.4f}, Support Vectors = {num_sv_linear}\")\n",
        "\n",
        "# (b) RBF kernel (γ = 0.001)\n",
        "print(\"5 B Question's Answer: \")\n",
        "train_error_rbf, test_error_rbf, num_sv_rbf = train_and_evaluate_svm(X_train_scaled, y_train, X_test_scaled, y_test, kernel='rbf', gamma=0.001)\n",
        "print(f\"RBF Kernel (γ=0.001): Train Error = {train_error_rbf:.4f}, Test Error = {test_error_rbf:.4f}, Support Vectors = {num_sv_rbf}\")\n",
        "\n",
        "# (c) Polynomial kernel (degree=2, coef0=1)\n",
        "train_error_poly, test_error_poly, num_sv_poly = train_and_evaluate_svm(X_train_scaled, y_train, X_test_scaled, y_test, kernel='poly', degree=2, coef0=1)\n",
        "print(f\"Polynomial Kernel (degree=2): Train Error = {train_error_poly:.4f}, Test Error = {test_error_poly:.4f}, Support Vectors = {num_sv_poly}\")"
      ],
      "metadata": {
        "colab": {
          "base_uri": "https://localhost:8080/"
        },
        "id": "11IHqmbdQ5vd",
        "outputId": "6a0e74ef-ae90-44b6-ba33-a587671eddef"
      },
      "execution_count": 11,
      "outputs": [
        {
          "output_type": "stream",
          "name": "stdout",
          "text": [
            "5 A Question's Answer: \n",
            "Linear Kernel: Train Error = 0.0038, Test Error = 0.0189, Support Vectors = 36\n",
            "5 B Question's Answer: \n",
            "RBF Kernel (γ=0.001): Train Error = 0.0160, Test Error = 0.0259, Support Vectors = 556\n",
            "Polynomial Kernel (degree=2): Train Error = 0.0032, Test Error = 0.0212, Support Vectors = 36\n"
          ]
        }
      ]
    }
  ]
}